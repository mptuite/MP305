{
 "cells": [
  {
   "cell_type": "markdown",
   "metadata": {},
   "source": [
    "# MP305 Activity Networks Michael Tuite"
   ]
  },
  {
   "cell_type": "markdown",
   "metadata": {},
   "source": [
    "# Overview\n",
    "### A project consists of $N$ activities $A,B,C,....$ each taking some time to complete which obey precedence relations e.g. $C$ takes place after $A$ etc.\n",
    "\n",
    "### In this Python file activities are described by a set `Act` e.g.  `Act=set([\"A\",\"B\",\"C\"])` where `\"A\"`, `\"B\"` and `\"C\"` are just string names for activities such as `\"First Job\"`, `\"Tea Break\"`, ...etc\n",
    "\n",
    "### The time taken to complete the activities is described by a Python dictionary called `Time` e.g. `Time[\"First Job\"]=3`\n",
    "\n",
    "### Precedence relations are described by a Python dictionary called `Prec` with entries giving the set of preceeding activities e.g.  `Prec[\"First Job\"]=set()` (where `set()` is the empty set) if no preceeding activity exists or `Prec[\"Tea Break\"]={\"First Job\"}` if `\"Tea Break\"` must take place after the first job has been completed.\n"
   ]
  },
  {
   "cell_type": "code",
   "execution_count": null,
   "metadata": {},
   "outputs": [],
   "source": []
  },
  {
   "cell_type": "markdown",
   "metadata": {},
   "source": [
    "#  The `Activity` Python function\n",
    "### This takes the given activities set `Act`, the dictionary `Time` and the precedence relations dictionary `Prec` and relabels the activities according to the Fulkerson algorithm from 0 to $N+1$ where the START has label $0$ and the FINISH has label $N+1$.  \n",
    "\n",
    "### A list `G` of arcs `(i,j)` describing the Activity Network $G$ with vertices $(i,j)$  labelled by $0,1,2,.. N+1$ is produced which describes the network. A list `T` giving the completion times for the activities is also produced.\n",
    "\n",
    "### The Activity Network is drawn but note that it may not always shown in its simplest form."
   ]
  },
  {
   "cell_type": "code",
   "execution_count": 1,
   "metadata": {},
   "outputs": [],
   "source": [
    "%matplotlib inline\n",
    "import networkx as nx \n",
    "import matplotlib.pyplot as plt\n",
    "from matplotlib.patches import Rectangle\n",
    "from IPython.display import display, Math, Latex"
   ]
  },
  {
   "cell_type": "code",
   "execution_count": 2,
   "metadata": {},
   "outputs": [],
   "source": [
    "def Activity (Act, Time, Prec):\n",
    "    global G,T,Alist,FinInd,LabelAi\n",
    "    FinInd = len(Act) + 1 \n",
    "    T=[0 for i in range(FinInd+1)]\n",
    "    LabelAi=dict();LabeliA=dict()\n",
    "    LabelAi[0] = \"Start\"; LabeliA[\"Start\"] = 0\n",
    "    LabelAi[FinInd] = \"Finish\"; LabeliA[\"Finish\"] = FinInd\n",
    "    NewP=dict()\n",
    "    for AA in Act:\n",
    "        NewP[AA] = Prec[AA]\n",
    "    Acurrent = Act\n",
    "    iA=0\n",
    "    Alist = [[0]]\n",
    "    while (Acurrent != set()):\n",
    "        NewA = set()\n",
    "        for Ai in Acurrent:\n",
    "            if NewP[Ai] == set():\n",
    "                NewA = NewA | set([Ai])\n",
    "        NewAlist = []\n",
    "        inew=1\n",
    "        for An in NewA:\n",
    "            LabelAi[inew + iA] = An;  LabeliA[An] = inew + iA\n",
    "            NewAlist = NewAlist + [inew + iA]\n",
    "            T[inew + iA] = Time[An]\n",
    "            inew=inew+1\n",
    "        Alist = Alist + [NewAlist] \n",
    "        iA = iA + len(NewA)\n",
    "        Acurrent = Acurrent - NewA\n",
    "        for Ai in Act:\n",
    "            NewP[Ai] = NewP[Ai] - NewA\n",
    "    Alist = Alist + [[FinInd]]\n",
    "    G = set()\n",
    "    FinNode = set([i for i in range(1,FinInd)])\n",
    "    for AA in Act:\n",
    "        iAA = LabeliA[AA]\n",
    "        if Prec[AA] == set():\n",
    "            G = G | set([(0,iAA)])\n",
    "        else:\n",
    "            for AB in Prec[AA]:\n",
    "                iAB = LabeliA[AB]\n",
    "                FinNode = FinNode - set([iAB])\n",
    "                G = G | set([(iAB,iAA)])\n",
    "    for iA in FinNode:\n",
    "        G = G | set([(iA,FinInd)])\n",
    "    print(\"The Activities have been relabeled with completion times:\")\n",
    "    for i in range(0, FinInd + 1):\n",
    "        print(\"Activity \", LabelAi[i], \" is activity \", i, \" with completion time \", T[i])\n",
    "    print(\"\")\n",
    "    print(\"The Activity Network is decribed by: \", G)\n",
    "    plt.figure(figsize=(6, 6))\n",
    "    G_Graph=nx.DiGraph()\n",
    "    for arc in G:\n",
    "        i,j=arc\n",
    "        G_Graph.add_edge(i,j)\n",
    "    Gh=20; Gw=200\n",
    "    Gpos={0:(0,Gh/2),FinInd:(Gw,Gh/2)}\n",
    "    ncol=len(Alist)-2\n",
    "    delx=Gw/(ncol+1)\n",
    "    for i in range(1,ncol+1):\n",
    "        Ai=Alist[i]\n",
    "        nAi=len(Ai)\n",
    "        dely=Gh/(nAi+1)\n",
    "        for j in range(nAi):\n",
    "            Aij=Ai[nAi-j-1]\n",
    "            Gpos[Aij]=(i*delx,(1+j)*dely)\n",
    "    nx.draw(G_Graph,pos=Gpos, with_labels=True,node_size=1000,font_size=15,node_color='yellow',arrowsize=30)\n",
    "    #print(\"\")\n",
    "   # nx.draw(G_Graph,labels=LabelAi,pos=Gpos, with_labels=True,node_size=1000,font_size=15,node_color='yellow',arrowsize=30)"
   ]
  },
  {
   "cell_type": "markdown",
   "metadata": {},
   "source": [
    "# Q1. The Chemical Process example discussed in class\n",
    "## Define the set of activities, completion times and precedence relations"
   ]
  },
  {
   "cell_type": "code",
   "execution_count": 3,
   "metadata": {},
   "outputs": [],
   "source": [
    "Act=set([\"A\",\"B\",\"C\",\"D\",\"E\",\"F\",\"G\"])\n",
    "\n",
    "Time=dict()\n",
    "\n",
    "Time[\"A\"]=2; Time[\"B\"]=1; Time[\"C\"]=3; Time[\"D\"]=3\n",
    "Time[\"E\"]=2; Time[\"F\"]=1; Time[\"G\"]=3\n",
    "\n",
    "Prec=dict()\n",
    "\n",
    "Prec[\"A\"]=set(); Prec[\"B\"]=set(); Prec[\"C\"]=set() # set() is the empty set\n",
    "Prec[\"D\"]={\"A\",\"B\"}\n",
    "Prec[\"E\"]={\"B\",\"C\",\"D\"}\n",
    "Prec[\"F\"]={\"A\",\"D\"}\n",
    "Prec[\"G\"]={\"E\",\"F\"}"
   ]
  },
  {
   "cell_type": "code",
   "execution_count": 4,
   "metadata": {},
   "outputs": [
    {
     "data": {
      "text/plain": [
       "{'A', 'B', 'C', 'D', 'E', 'F', 'G'}"
      ]
     },
     "execution_count": 4,
     "metadata": {},
     "output_type": "execute_result"
    }
   ],
   "source": [
    "Act"
   ]
  },
  {
   "cell_type": "code",
   "execution_count": 5,
   "metadata": {},
   "outputs": [
    {
     "data": {
      "text/plain": [
       "{'A': 2, 'B': 1, 'C': 3, 'D': 3, 'E': 2, 'F': 1, 'G': 3}"
      ]
     },
     "execution_count": 5,
     "metadata": {},
     "output_type": "execute_result"
    }
   ],
   "source": [
    "Time"
   ]
  },
  {
   "cell_type": "code",
   "execution_count": 6,
   "metadata": {},
   "outputs": [
    {
     "data": {
      "text/plain": [
       "{'A': set(),\n",
       " 'B': set(),\n",
       " 'C': set(),\n",
       " 'D': {'A', 'B'},\n",
       " 'E': {'B', 'C', 'D'},\n",
       " 'F': {'A', 'D'},\n",
       " 'G': {'E', 'F'}}"
      ]
     },
     "execution_count": 6,
     "metadata": {},
     "output_type": "execute_result"
    }
   ],
   "source": [
    "Prec"
   ]
  },
  {
   "cell_type": "code",
   "execution_count": 7,
   "metadata": {},
   "outputs": [
    {
     "name": "stdout",
     "output_type": "stream",
     "text": [
      "The Activities have been relabeled with completion times:\n",
      "Activity  Start  is activity  0  with completion time  0\n",
      "Activity  A  is activity  1  with completion time  2\n",
      "Activity  C  is activity  2  with completion time  3\n",
      "Activity  B  is activity  3  with completion time  1\n",
      "Activity  D  is activity  4  with completion time  3\n",
      "Activity  E  is activity  5  with completion time  2\n",
      "Activity  F  is activity  6  with completion time  1\n",
      "Activity  G  is activity  7  with completion time  3\n",
      "Activity  Finish  is activity  8  with completion time  0\n",
      "\n",
      "The Activity Network is decribed by:  {(0, 1), (3, 4), (4, 6), (0, 3), (1, 4), (5, 7), (6, 7), (4, 5), (0, 2), (7, 8), (1, 6), (2, 5), (3, 5)}\n"
     ]
    },
    {
     "data": {
      "image/png": "[encoded data removed]",
      "text/plain": [
       "<Figure size 432x432 with 1 Axes>"
      ]
     },
     "metadata": {},
     "output_type": "display_data"
    }
   ],
   "source": [
    "Activity(Act,Time,Prec)"
   ]
  },
  {
   "cell_type": "code",
   "execution_count": null,
   "metadata": {},
   "outputs": [],
   "source": []
  },
  {
   "cell_type": "code",
   "execution_count": null,
   "metadata": {},
   "outputs": [],
   "source": []
  },
  {
   "cell_type": "markdown",
   "metadata": {},
   "source": [
    "# The function `CritPath` \n",
    "### This computes the critical path, the minimum project completion time, the earliest and  latest starting times and the float for each activity for an activity network `G` with completion times `T`."
   ]
  },
  {
   "cell_type": "code",
   "execution_count": null,
   "metadata": {},
   "outputs": [],
   "source": []
  },
  {
   "cell_type": "code",
   "execution_count": 8,
   "metadata": {},
   "outputs": [],
   "source": [
    "def CritPath (G, T):\n",
    "    global FinInd,e,l,f,In,Out\n",
    "    In=[[] for i in range(0, FinInd + 1)]\n",
    "    Out=[[] for i in range(0, FinInd + 1)]\n",
    "    for arc in G:\n",
    "        i,j=arc\n",
    "        In[j] = In[j]  + [i]\n",
    "        Out[i]  = Out[i] + [j]\n",
    "\n",
    "    # Forward scan for earliest starting times\n",
    "    e=[0 for i in range(FinInd + 1)]\n",
    "    p=[0 for i in range(FinInd + 1)]\n",
    "    for j in range(1, FinInd + 1):\n",
    "        #v = In[j][1]\n",
    "        #e[j] = e[v] + T[v]\n",
    "        #p[j] = v\n",
    "        for u in In[j]:\n",
    "            newe = e[u] + T[u]\n",
    "            if e[j] <= newe:\n",
    "                e[j] = newe\n",
    "                p[j] = u\n",
    "\n",
    "    # Backward scan for critical path\n",
    "    cpath = [FinInd]\n",
    "    start = FinInd\n",
    "    while (not(start == 0)):\n",
    "        start = p[start]\n",
    "        cpath = [start] + cpath\n",
    "\n",
    "    TTotal = 0\n",
    "    for j in range(1, FinInd):\n",
    "        TTotal = TTotal + T[j]\n",
    "    print(\"The Total amount of work to be completed is:\", TTotal)\n",
    "    print(\"The Critical Path is:\", cpath)\n",
    "    print(\"The Minimum Completion Time with sufficient workers is:\", e[FinInd])\n",
    "    \n",
    "    # latest starting times\n",
    "    l=[0 for i in range(FinInd+1)] \n",
    "    f=[0 for i in range(FinInd+1)] \n",
    "    l[FinInd]=e[FinInd]\n",
    "    for i in range(FinInd-1, -1, -1):\n",
    "        l[i]=min([l[j] for j in Out[i]])-T[i]\n",
    "        f[i]=l[i]-e[i]\n",
    "    data=[[\"    Activity\", \"Earliest\", \"Latest\", \"Float\"]]\n",
    "    data=data +[[i,e[i],l[i],f[i]] for i in range(FinInd+1)]\n",
    "    for row in data:\n",
    "        print(\"{: >10}{: >10}{: >10}{: >10}\".format(*row))"
   ]
  },
  {
   "cell_type": "markdown",
   "metadata": {},
   "source": [
    "# Q.1 Example"
   ]
  },
  {
   "cell_type": "code",
   "execution_count": 9,
   "metadata": {},
   "outputs": [
    {
     "name": "stdout",
     "output_type": "stream",
     "text": [
      "The Total amount of work to be completed is: 15\n",
      "The Critical Path is: [0, 1, 4, 5, 7, 8]\n",
      "The Minimum Completion Time with sufficient workers is: 10\n",
      "    Activity  Earliest    Latest     Float\n",
      "         0         0         0         0\n",
      "         1         0         0         0\n",
      "         2         0         2         2\n",
      "         3         0         1         1\n",
      "         4         2         2         0\n",
      "         5         5         5         0\n",
      "         6         5         6         1\n",
      "         7         7         7         0\n",
      "         8        10        10         0\n"
     ]
    }
   ],
   "source": [
    "CritPath(G,T)"
   ]
  },
  {
   "cell_type": "code",
   "execution_count": null,
   "metadata": {},
   "outputs": [],
   "source": []
  },
  {
   "cell_type": "markdown",
   "metadata": {},
   "source": [
    "# The function `CritSchedule` \n",
    "### This implements the Critical Path Schedule for an acivity network `G` with times `T` by assigning tasks to `Nw` workers.  The output describes the assignment of activities to each worker together with a graphical display of the history over time.\n",
    "\n",
    "\n",
    "### This function calls the functions `RankSet1`, which ranks a set of tasks (according to latest starting times) and `GraphSchedule` which produces a graphic for the final schedule"
   ]
  },
  {
   "cell_type": "code",
   "execution_count": null,
   "metadata": {},
   "outputs": [],
   "source": []
  },
  {
   "cell_type": "code",
   "execution_count": 10,
   "metadata": {},
   "outputs": [],
   "source": [
    "def RankSet1 (vset):\n",
    "    global l\n",
    "    vlist=list(vset)\n",
    "    nlist = len(vlist)\n",
    "    for i in range(nlist):\n",
    "        for j in range(i,nlist):\n",
    "                vi = vlist[i];  vj = vlist[j]\n",
    "                ri = l[vi]; rj = l[vj]\n",
    "                if rj < ri or (ri == rj and vj < vi):\n",
    "                    vlist[i],vlist[j]=vlist[j],vlist[i]\n",
    "    return(vlist)"
   ]
  },
  {
   "cell_type": "code",
   "execution_count": null,
   "metadata": {},
   "outputs": [],
   "source": []
  },
  {
   "cell_type": "code",
   "execution_count": 11,
   "metadata": {},
   "outputs": [],
   "source": [
    "def GraphSchedule (Wseq,Time):\n",
    "    Nw=len(Wseq)\n",
    "    colorw={1:\"green\",2:\"yellow\",3:\"orange\",4:\"blue\",5:\"red\"}\n",
    "    fig = plt.figure()\n",
    "    ax = fig.add_subplot() \n",
    "    Tmax=0\n",
    "    for nw in range(1,Nw+1):\n",
    "        Wseqn=Wseq[nw]\n",
    "        AW=int(len(Wseqn)/4) # no of tasks for a worker\n",
    "        y0=nw-1\n",
    "        for iw in range(AW):\n",
    "            t0,Aiw,t1=Wseqn[0+4*iw:3+4*iw]\n",
    "            x0=t0\n",
    "            width=t1-t0\n",
    "            Tmax=max(Tmax,t1)\n",
    "            rect = Rectangle((x0, y0), width, 1, ec ='black',lw = 2,color=colorw[nw]) \n",
    "            ax.add_patch(rect) \n",
    "            ax.text(x0+width/2, y0+1/2, Aiw,size=15)\n",
    "        ax.text(-Time/3, y0+1/2, \"Worker \"+str(nw),size=15)\n",
    "    \n",
    "    # tickmarks and axes range and labels\n",
    "    ax.set_xticks([k for k in range(Time+1)])\n",
    "    ax.set_yticks([])\n",
    "    plt.xlim([0, Time]) \n",
    "    plt.ylim([0, Nw])\n",
    "    plt.xlabel('Time',size=15)\n",
    "    plt.show()"
   ]
  },
  {
   "cell_type": "code",
   "execution_count": 12,
   "metadata": {},
   "outputs": [],
   "source": [
    "def CritSchedule (G, T, Nw):\n",
    "#\n",
    "# This function finds the optimal schedule according to the critical path scheduling algorithm for Nw workers. \n",
    "# Any idle worker is always assigned an activity if possible.\n",
    "#\n",
    "    global FinInd,In,Out,e,workertaskseq\n",
    "    CritPath(G, T)\n",
    "    print(\"\")\n",
    "# Total time for all activities\n",
    "    Tot = 0\n",
    "    for k in range(1, FinInd):\n",
    "        Tot = Tot + T[k]\n",
    "    Topt = max(Tot / Nw, e[FinInd])\n",
    "# sequences of tasks undertaken by worker i\n",
    "    workertaskseq=dict()\n",
    "    for i in range(1, Nw + 1):\n",
    "        workertaskseq[i] = []\n",
    "#set of workers available\n",
    "    availset = set([k for k in range(1,Nw+1)])\n",
    "#worker assigned to activity k\n",
    "    Activity=dict()\n",
    "#\n",
    "# Initial activities Done, Current and Next\n",
    "#\n",
    "    Current = set(); Done = set(); Next = set(Out[0]); Time = 0\n",
    "#\n",
    "# The Time left for activities\n",
    "#\n",
    "    Tleft=dict()\n",
    "    for i in range(0, FinInd + 1):\n",
    "        Tleft[i] = T[i]\n",
    "\n",
    "    while (len(Done) != FinInd-1):\n",
    "#\n",
    "# Assign activities to available workers:\n",
    "#\n",
    "        Nextlist = RankSet1(set(Next))\n",
    "        noc = len(Current)\n",
    "        for i in range(1, min(Nw - noc, len(Next)) + 1):\n",
    "            nextjob = Nextlist[i-1]\n",
    "            workeri = list(availset)[0]\n",
    "            Activity[nextjob] = workeri\n",
    "            availset = availset - set([workeri])\n",
    "            workertaskseq[workeri] = workertaskseq[workeri] + [Time, nextjob]\n",
    "            Current = Current | set([nextjob])\n",
    "            Next = Next - set([nextjob])\n",
    "        print(\"Time=\",Time,\"Current activities=\",Current)\n",
    "        print(\"\")\n",
    " # times to complete current tasks\n",
    "        Tset = set()\n",
    "        for v in Current:\n",
    "            Tset = Tset | set([Tleft[v]])\n",
    "        DelT = min(tuple(Tset))\n",
    "        Time = Time + DelT\n",
    "        for v in Current:\n",
    "            Tleft[v] = Tleft[v] - DelT\n",
    "            if Tleft[v] == 0:\n",
    "                print(\"Time=\",Time,\"Activity\",v,\"completed\")\n",
    "                workerv = Activity[v]\n",
    "                workertaskseq[workerv] = workertaskseq[workerv] +[Time, v]\n",
    "                availset = availset | set([workerv])\n",
    "                Done = Done | set([v])\n",
    "                Current = Current - set([v])\n",
    "                for w in Out[v]:\n",
    "                    if set(In[w]) - Done == set():\n",
    "                        Next = Next | set([w]) - set([FinInd])\n",
    "    if Time == Topt:\n",
    "        print(\"\")\n",
    "        print(\"Optimal Schedule Found for\",Nw,\"Workers!\")\n",
    "        if Topt == e[FinInd]:\n",
    "            print(\"The Minimal Completion Time of\",e[FinInd], \"is achieved for\",Nw,\" Workers!\")\n",
    "    GraphSchedule(workertaskseq,Time)"
   ]
  },
  {
   "cell_type": "markdown",
   "metadata": {},
   "source": [
    "# Q.1 example\n",
    "### Find Critical Schedule for first example in class for 1,2,3 workers"
   ]
  },
  {
   "cell_type": "code",
   "execution_count": 13,
   "metadata": {},
   "outputs": [
    {
     "name": "stdout",
     "output_type": "stream",
     "text": [
      "The Total amount of work to be completed is: 15\n",
      "The Critical Path is: [0, 1, 4, 5, 7, 8]\n",
      "The Minimum Completion Time with sufficient workers is: 10\n",
      "    Activity  Earliest    Latest     Float\n",
      "         0         0         0         0\n",
      "         1         0         0         0\n",
      "         2         0         2         2\n",
      "         3         0         1         1\n",
      "         4         2         2         0\n",
      "         5         5         5         0\n",
      "         6         5         6         1\n",
      "         7         7         7         0\n",
      "         8        10        10         0\n",
      "\n",
      "Time= 0 Current activities= {1}\n",
      "\n",
      "Time= 2 Activity 1 completed\n",
      "Time= 2 Current activities= {3}\n",
      "\n",
      "Time= 3 Activity 3 completed\n",
      "Time= 3 Current activities= {2}\n",
      "\n",
      "Time= 6 Activity 2 completed\n",
      "Time= 6 Current activities= {4}\n",
      "\n",
      "Time= 9 Activity 4 completed\n",
      "Time= 9 Current activities= {5}\n",
      "\n",
      "Time= 11 Activity 5 completed\n",
      "Time= 11 Current activities= {6}\n",
      "\n",
      "Time= 12 Activity 6 completed\n",
      "Time= 12 Current activities= {7}\n",
      "\n",
      "Time= 15 Activity 7 completed\n",
      "\n",
      "Optimal Schedule Found for 1 Workers!\n"
     ]
    },
    {
     "data": {
      "image/png": "[encoded data removed]",
      "text/plain": [
       "<Figure size 432x288 with 1 Axes>"
      ]
     },
     "metadata": {
      "needs_background": "light"
     },
     "output_type": "display_data"
    }
   ],
   "source": [
    "CritSchedule(G,T,1)"
   ]
  },
  {
   "cell_type": "code",
   "execution_count": 14,
   "metadata": {},
   "outputs": [
    {
     "name": "stdout",
     "output_type": "stream",
     "text": [
      "The Total amount of work to be completed is: 15\n",
      "The Critical Path is: [0, 1, 4, 5, 7, 8]\n",
      "The Minimum Completion Time with sufficient workers is: 10\n",
      "    Activity  Earliest    Latest     Float\n",
      "         0         0         0         0\n",
      "         1         0         0         0\n",
      "         2         0         2         2\n",
      "         3         0         1         1\n",
      "         4         2         2         0\n",
      "         5         5         5         0\n",
      "         6         5         6         1\n",
      "         7         7         7         0\n",
      "         8        10        10         0\n",
      "\n",
      "Time= 0 Current activities= {1, 3}\n",
      "\n",
      "Time= 1 Activity 3 completed\n",
      "Time= 1 Current activities= {1, 2}\n",
      "\n",
      "Time= 2 Activity 1 completed\n",
      "Time= 2 Current activities= {2, 4}\n",
      "\n",
      "Time= 4 Activity 2 completed\n",
      "Time= 4 Current activities= {4}\n",
      "\n",
      "Time= 5 Activity 4 completed\n",
      "Time= 5 Current activities= {5, 6}\n",
      "\n",
      "Time= 6 Activity 6 completed\n",
      "Time= 6 Current activities= {5}\n",
      "\n",
      "Time= 7 Activity 5 completed\n",
      "Time= 7 Current activities= {7}\n",
      "\n",
      "Time= 10 Activity 7 completed\n",
      "\n",
      "Optimal Schedule Found for 2 Workers!\n",
      "The Minimal Completion Time of 10 is achieved for 2  Workers!\n"
     ]
    },
    {
     "data": {
      "image/png": "[encoded data removed]",
      "text/plain": [
       "<Figure size 432x288 with 1 Axes>"
      ]
     },
     "metadata": {
      "needs_background": "light"
     },
     "output_type": "display_data"
    }
   ],
   "source": [
    "CritSchedule(G,T,2)"
   ]
  },
  {
   "cell_type": "code",
   "execution_count": 15,
   "metadata": {},
   "outputs": [
    {
     "name": "stdout",
     "output_type": "stream",
     "text": [
      "The Total amount of work to be completed is: 15\n",
      "The Critical Path is: [0, 1, 4, 5, 7, 8]\n",
      "The Minimum Completion Time with sufficient workers is: 10\n",
      "    Activity  Earliest    Latest     Float\n",
      "         0         0         0         0\n",
      "         1         0         0         0\n",
      "         2         0         2         2\n",
      "         3         0         1         1\n",
      "         4         2         2         0\n",
      "         5         5         5         0\n",
      "         6         5         6         1\n",
      "         7         7         7         0\n",
      "         8        10        10         0\n",
      "\n",
      "Time= 0 Current activities= {1, 2, 3}\n",
      "\n",
      "Time= 1 Activity 3 completed\n",
      "Time= 1 Current activities= {1, 2}\n",
      "\n",
      "Time= 2 Activity 1 completed\n",
      "Time= 2 Current activities= {2, 4}\n",
      "\n",
      "Time= 3 Activity 2 completed\n",
      "Time= 3 Current activities= {4}\n",
      "\n",
      "Time= 5 Activity 4 completed\n",
      "Time= 5 Current activities= {5, 6}\n",
      "\n",
      "Time= 6 Activity 6 completed\n",
      "Time= 6 Current activities= {5}\n",
      "\n",
      "Time= 7 Activity 5 completed\n",
      "Time= 7 Current activities= {7}\n",
      "\n",
      "Time= 10 Activity 7 completed\n",
      "\n",
      "Optimal Schedule Found for 3 Workers!\n",
      "The Minimal Completion Time of 10 is achieved for 3  Workers!\n"
     ]
    },
    {
     "data": {
      "image/png": "[encoded data removed]",
      "text/plain": [
       "<Figure size 432x288 with 1 Axes>"
      ]
     },
     "metadata": {
      "needs_background": "light"
     },
     "output_type": "display_data"
    }
   ],
   "source": [
    "CritSchedule(G,T,3)"
   ]
  },
  {
   "cell_type": "code",
   "execution_count": null,
   "metadata": {},
   "outputs": [],
   "source": []
  },
  {
   "cell_type": "markdown",
   "metadata": {},
   "source": [
    "# The function `ProtSchedule`  \n",
    "### This implements the Protection Scheme Schedule for assigning tasks to `Nw` workers. The output describes the assignement of activities to each worker together with a graphical display of the history over time. \n",
    "\n",
    "### This function calls RankSet2 which ranks  a set of tasks according to earliest + lastest starting times"
   ]
  },
  {
   "cell_type": "code",
   "execution_count": null,
   "metadata": {},
   "outputs": [],
   "source": []
  },
  {
   "cell_type": "code",
   "execution_count": 16,
   "metadata": {},
   "outputs": [],
   "source": [
    "def RankSet2 (vset):\n",
    "    global l,e\n",
    "    vlist=list(vset)\n",
    "    nlist = len(vlist)\n",
    "    for i in range(nlist):\n",
    "        for j in range(i,nlist):\n",
    "                vi = vlist[i];  vj = vlist[j]\n",
    "                ri = e[vi]+l[vi]; rj =e[vj]+ l[vj]\n",
    "                if rj < ri or (ri == rj and vj < vi):\n",
    "                    vlist[i],vlist[j]=vlist[j],vlist[i]\n",
    "    return(vlist)"
   ]
  },
  {
   "cell_type": "code",
   "execution_count": null,
   "metadata": {},
   "outputs": [],
   "source": []
  },
  {
   "cell_type": "code",
   "execution_count": 17,
   "metadata": {},
   "outputs": [],
   "source": [
    "def ProtSchedule (G, T, Nw):\n",
    "#\n",
    "# This function finds the optimal schedule according to the critical path scheduling algorithm for Nw workers. \n",
    "# Any idle worker is always assigned an activity if possible.\n",
    "#\n",
    "    global FinInd,In,Out,e,workertaskseq\n",
    "    CritPath(G, T)\n",
    "    print(\"\")\n",
    "# Total time for all activities\n",
    "    Tot = 0\n",
    "    for k in range(1, FinInd):\n",
    "        Tot = Tot + T[k]\n",
    "    Topt = max(Tot / Nw, e[FinInd])\n",
    "# sequences of tasks undertaken by worker i\n",
    "    workertaskseq=dict()\n",
    "    for i in range(1, Nw + 1):\n",
    "        workertaskseq[i] = []\n",
    "#set of workers available\n",
    "    availset = set([k for k in range(1,Nw+1)])\n",
    "#worker assigned to activity k\n",
    "    Activity=dict()\n",
    "#\n",
    "# Initial activities Done, Current and Next\n",
    "#\n",
    "    Current = set(); Done = set(); Next = set(Out[0]); Time = 0\n",
    "#\n",
    "# The Time left for activities\n",
    "#\n",
    "    Tleft=dict()\n",
    "    for i in range(0, FinInd + 1):\n",
    "        Tleft[i] = T[i]\n",
    "    AllRank=RankSet2(set([i for i in range(1,FinInd+1)]));\n",
    "    while (len(Done) != FinInd-1):\n",
    "#\n",
    "# Assign activities to available workers:\n",
    "#\n",
    "        Nextlist = RankSet2(set(Next))\n",
    "        noc = len(Current)\n",
    "        for i in range(1, min(Nw - noc, len(Next)) + 1):\n",
    "            nextjob = Nextlist[i-1]\n",
    "            workeri = list(availset)[0]\n",
    "            if nextjob==AllRank[0]: \n",
    "                Activity[nextjob] = workeri\n",
    "                availset = availset - set([workeri])\n",
    "                workertaskseq[workeri] = workertaskseq[workeri] + [Time, nextjob]\n",
    "                Current = Current | set([nextjob])\n",
    "                Next = Next - set([nextjob])\n",
    "                AllRank=RankSet2(set(AllRank) - set([nextjob]))\n",
    "        print(\"Time=\",Time,\"Current activities=\",Current)\n",
    "        print(\"\")\n",
    " # times to complete current tasks\n",
    "        Tset = set()\n",
    "        for v in Current:\n",
    "            Tset = Tset | set([Tleft[v]])\n",
    "        DelT = min(tuple(Tset))\n",
    "        Time = Time + DelT\n",
    "        for v in Current:\n",
    "            Tleft[v] = Tleft[v] - DelT\n",
    "            if Tleft[v] == 0:\n",
    "                print(\"Time=\",Time,\"Activity\",v,\"completed\")\n",
    "                workerv = Activity[v]\n",
    "                workertaskseq[workerv] = workertaskseq[workerv] +[Time, v]\n",
    "                availset = availset | set([workerv])\n",
    "                Done = Done | set([v])\n",
    "                Current = Current - set([v])\n",
    "                for w in Out[v]:\n",
    "                    if set(In[w]) - Done == set():\n",
    "                        Next = Next | set([w]) - set([FinInd])\n",
    "    if Time == Topt:\n",
    "        print(\"\")\n",
    "        print(\"Optimal Schedule Found for\",Nw,\"Workers!\")\n",
    "        if Topt == e[FinInd]:\n",
    "            print(\"The Minimal Completion Time of\",e[FinInd], \"is achieved for\",Nw,\" Workers!\")\n",
    "    GraphSchedule(workertaskseq,Time)"
   ]
  },
  {
   "cell_type": "markdown",
   "metadata": {},
   "source": [
    "# Q.1  Example \n",
    "### Find the Protected Schedule for first example in class for 2,3 workers"
   ]
  },
  {
   "cell_type": "code",
   "execution_count": 18,
   "metadata": {},
   "outputs": [
    {
     "name": "stdout",
     "output_type": "stream",
     "text": [
      "The Total amount of work to be completed is: 15\n",
      "The Critical Path is: [0, 1, 4, 5, 7, 8]\n",
      "The Minimum Completion Time with sufficient workers is: 10\n",
      "    Activity  Earliest    Latest     Float\n",
      "         0         0         0         0\n",
      "         1         0         0         0\n",
      "         2         0         2         2\n",
      "         3         0         1         1\n",
      "         4         2         2         0\n",
      "         5         5         5         0\n",
      "         6         5         6         1\n",
      "         7         7         7         0\n",
      "         8        10        10         0\n",
      "\n",
      "Time= 0 Current activities= {1, 3}\n",
      "\n",
      "Time= 1 Activity 3 completed\n",
      "Time= 1 Current activities= {1, 2}\n",
      "\n",
      "Time= 2 Activity 1 completed\n",
      "Time= 2 Current activities= {2, 4}\n",
      "\n",
      "Time= 4 Activity 2 completed\n",
      "Time= 4 Current activities= {4}\n",
      "\n",
      "Time= 5 Activity 4 completed\n",
      "Time= 5 Current activities= {5, 6}\n",
      "\n",
      "Time= 6 Activity 6 completed\n",
      "Time= 6 Current activities= {5}\n",
      "\n",
      "Time= 7 Activity 5 completed\n",
      "Time= 7 Current activities= {7}\n",
      "\n",
      "Time= 10 Activity 7 completed\n",
      "\n",
      "Optimal Schedule Found for 2 Workers!\n",
      "The Minimal Completion Time of 10 is achieved for 2  Workers!\n"
     ]
    },
    {
     "data": {
      "image/png": "[encoded data removed]",
      "text/plain": [
       "<Figure size 432x288 with 1 Axes>"
      ]
     },
     "metadata": {
      "needs_background": "light"
     },
     "output_type": "display_data"
    }
   ],
   "source": [
    "ProtSchedule (G, T, 2)"
   ]
  },
  {
   "cell_type": "code",
   "execution_count": null,
   "metadata": {},
   "outputs": [],
   "source": []
  },
  {
   "cell_type": "code",
   "execution_count": null,
   "metadata": {},
   "outputs": [],
   "source": []
  },
  {
   "cell_type": "code",
   "execution_count": null,
   "metadata": {},
   "outputs": [],
   "source": []
  },
  {
   "cell_type": "code",
   "execution_count": null,
   "metadata": {},
   "outputs": [],
   "source": []
  },
  {
   "cell_type": "markdown",
   "metadata": {},
   "source": [
    "# Q.2 (*)\n",
    "## Find the critical path and the minimal completion time for the following assembly problem with 10 activities ($A-J$):\n",
    "\n",
    "### $A$ precedes activity $J$ and the completion time is 7.\n",
    "### $B$ precedes activity $J$ and the completion time is 7.\n",
    "### $C$ precedes activity $J$ and the completion time is 7.\n",
    "### $D$ precedes activities $C$, $E$, $F$ and $J$ and the completion time is 2.\n",
    "### $E$ precedes activities $C$, $H$, $I$ and $J$ and the completion time is 3. \n",
    "### $F$ precedes activities $G$, $H$ and $I$ and the completion time is 2.\n",
    "### $G$ precedes activities $H$ and $I$ and the completion time is 2.\n",
    "### $H$ precedes Finish and the completion time is 8.\n",
    "### $I$ precedes Finish and the completion time is 8.\n",
    "### $J$ precedes Finish and the completion time is 18."
   ]
  },
  {
   "cell_type": "code",
   "execution_count": null,
   "metadata": {},
   "outputs": [],
   "source": []
  },
  {
   "cell_type": "code",
   "execution_count": null,
   "metadata": {},
   "outputs": [],
   "source": []
  },
  {
   "cell_type": "code",
   "execution_count": null,
   "metadata": {},
   "outputs": [],
   "source": []
  },
  {
   "cell_type": "markdown",
   "metadata": {},
   "source": [
    "# Q.3 (*) Example from lecture 8\n",
    "###  Investigate the scheduling of 2 or 3 workers to the example discussed in class using the critical path and protection scheduling using the Python functions {\\tt CritSchedule(G,T,Nw)}and {\\tt ProtSchedule(G,T,Nw)}.\n",
    "![Network](Lab3.jpg)\n",
    "### \tWith the earliest and latest starting times found verify the scheduling\tfound by hand."
   ]
  },
  {
   "cell_type": "code",
   "execution_count": null,
   "metadata": {},
   "outputs": [],
   "source": []
  },
  {
   "cell_type": "code",
   "execution_count": null,
   "metadata": {},
   "outputs": [],
   "source": []
  },
  {
   "cell_type": "code",
   "execution_count": null,
   "metadata": {},
   "outputs": [],
   "source": []
  },
  {
   "cell_type": "markdown",
   "metadata": {},
   "source": [
    "# Q.4  Computer Program Example\n",
    "### A large computer program consists of a number of modules (or subroutines) $M_{1},M_{2},M_{3},$ $M_{4},M_{5}$, $M_{6},M_{7}$ and $M_{8}$.\n",
    "\t\n",
    "### Each module $M_{i}$ takes a time $T_{i}$ (in minutes) to complete and their completion depend of some preceding modules as follows:\n",
    "\\begin{array}{|c|c|c|c|c|c|c|c|c|}\n",
    "\\hline\n",
    "\\text{Module} & M_{1} & M_{2} & M_{3} & M_{4} & M_{5} & M_{6} & M_{7} & M_{8} \n",
    "\\\\ \n",
    "\\hline\n",
    "T_{i} & 2 & 2 & 3 & 2 & 2 & 6 & 3 & 4 \n",
    "\\\\ \n",
    "\\hline\n",
    "\\text{Preceding} & \\text{none} & \\text{none} & M_{1} & M_{1},M_{2} & M_{1},M_{2} & M_{3},M_{4},M_{5} & M_{3},M_{4},M_{5} & M_{3},M_{7} \n",
    "\\\\ \n",
    "\\hline\n",
    "\\end{array}"
   ]
  },
  {
   "cell_type": "code",
   "execution_count": null,
   "metadata": {},
   "outputs": [],
   "source": []
  },
  {
   "cell_type": "markdown",
   "metadata": {},
   "source": [
    "## (a) Construct the activity network for this system with standard labeling."
   ]
  },
  {
   "cell_type": "code",
   "execution_count": null,
   "metadata": {},
   "outputs": [],
   "source": []
  },
  {
   "cell_type": "markdown",
   "metadata": {},
   "source": [
    "## (b) Find the critical path minimal completion time assuming that a sufficient number of parallel processors are available. \n",
    "## What are the earliest and latest starting times for each module?"
   ]
  },
  {
   "cell_type": "code",
   "execution_count": null,
   "metadata": {},
   "outputs": [],
   "source": []
  },
  {
   "cell_type": "markdown",
   "metadata": {},
   "source": [
    "## (c) Find the minimal completion time assuming that only two parallel processors are available using the critical path or protection\tscheme scheduling strategies. \n",
    "## What is the average computing time per processor?"
   ]
  },
  {
   "cell_type": "code",
   "execution_count": null,
   "metadata": {},
   "outputs": [],
   "source": []
  },
  {
   "cell_type": "markdown",
   "metadata": {},
   "source": [
    "## (d) A programmer realizes that part of either module $M_{3}$ or $M_{4}$ can placed in module $M_{6}$ at a saving of 1 minute in\tfor $T_{3}$ or $T_{4}$ but at the expense of 1 minute further in $T_{6}$. \n",
    "## What would you recommend for maximum efficiency given that you have only two parallel processors?"
   ]
  },
  {
   "cell_type": "code",
   "execution_count": null,
   "metadata": {},
   "outputs": [],
   "source": []
  },
  {
   "cell_type": "code",
   "execution_count": null,
   "metadata": {},
   "outputs": [],
   "source": []
  },
  {
   "cell_type": "code",
   "execution_count": null,
   "metadata": {},
   "outputs": [],
   "source": []
  }
 ],
 "metadata": {
  "kernelspec": {
   "display_name": "Python 3 (ipykernel)",
   "language": "python",
   "name": "python3"
  },
  "language_info": {
   "codemirror_mode": {
    "name": "ipython",
    "version": 3
   },
   "file_extension": ".py",
   "mimetype": "text/x-python",
   "name": "python",
   "nbconvert_exporter": "python",
   "pygments_lexer": "ipython3",
   "version": "3.11.4"
  }
 },
 "nbformat": 4,
 "nbformat_minor": 4
}
